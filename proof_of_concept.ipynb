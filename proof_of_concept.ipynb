{
 "cells": [
  {
   "cell_type": "markdown",
   "id": "c1ef50ff",
   "metadata": {},
   "source": [
    "Word list found on https://1000mostcommonwords.com/1000-most-common-hindi-words/"
   ]
  },
  {
   "cell_type": "code",
   "execution_count": null,
   "id": "15c753e6",
   "metadata": {},
   "outputs": [],
   "source": [
    "from urllib.request import urlretrieve, urlopen                                                                                                                                                       \n",
    "from urllib.parse import quote\n",
    "import tempfile\n",
    "from os import path\n",
    "\n",
    "from playsound import playsound"
   ]
  },
  {
   "cell_type": "code",
   "execution_count": null,
   "id": "ed0d725a",
   "metadata": {},
   "outputs": [],
   "source": [
    "def word_generator():\n",
    "    wordsf = open(\"word_list.txt\")\n",
    "    while line := wordsf.readline():\n",
    "        _, hindi, english = line.strip().split(\"\\t\")\n",
    "        yield hindi, english"
   ]
  },
  {
   "cell_type": "code",
   "execution_count": null,
   "id": "c7c6a7c1",
   "metadata": {},
   "outputs": [],
   "source": [
    "def play_audio(hindi):\n",
    "    audio_url_prefix = \"https://translate.google.com/translate_tts?ie=UTF-8&client=tw-ob&tl=hi&q=\"\n",
    "    encoded_hindi = quote(hindi)\n",
    "    audio_url = audio_url_prefix + encoded_hindi\n",
    "\n",
    "    with tempfile.TemporaryDirectory() as tmpdir:\n",
    "        audio_fname = path.join(tmpdir, \"audio.mp3\")        \n",
    "        urlretrieve(audio_url, audio_fname)\n",
    "        playsound(audio_fname)\n",
    "        return audio_fname"
   ]
  },
  {
   "cell_type": "code",
   "execution_count": null,
   "id": "baa6c427",
   "metadata": {},
   "outputs": [],
   "source": [
    "word = word_generator()"
   ]
  },
  {
   "cell_type": "code",
   "execution_count": null,
   "id": "2a0af617",
   "metadata": {
    "scrolled": true
   },
   "outputs": [],
   "source": [
    "hindi, english = next(word)\n",
    "play_audio(hindi)\n",
    "print(hindi, english)"
   ]
  },
  {
   "cell_type": "code",
   "execution_count": null,
   "id": "fdcde51b",
   "metadata": {},
   "outputs": [],
   "source": [
    "image_url_prefix = \"https://www.ecosia.org/images?q=\"\n",
    "encoded_hindi = quote(hindi)\n",
    "image_url = image_url_prefix + encoded_hindi"
   ]
  },
  {
   "cell_type": "code",
   "execution_count": null,
   "id": "6018cfe3",
   "metadata": {},
   "outputs": [],
   "source": [
    "print(image_url)"
   ]
  },
  {
   "cell_type": "code",
   "execution_count": null,
   "id": "c3a41b57",
   "metadata": {},
   "outputs": [],
   "source": []
  }
 ],
 "metadata": {
  "kernelspec": {
   "display_name": "Python 3 (ipykernel)",
   "language": "python",
   "name": "python3"
  },
  "language_info": {
   "codemirror_mode": {
    "name": "ipython",
    "version": 3
   },
   "file_extension": ".py",
   "mimetype": "text/x-python",
   "name": "python",
   "nbconvert_exporter": "python",
   "pygments_lexer": "ipython3",
   "version": "3.10.4"
  }
 },
 "nbformat": 4,
 "nbformat_minor": 5
}
