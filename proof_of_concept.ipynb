{
 "cells": [
  {
   "cell_type": "markdown",
   "id": "1016622b",
   "metadata": {},
   "source": [
    "Word list found on https://1000mostcommonwords.com/1000-most-common-hindi-words/"
   ]
  },
  {
   "cell_type": "code",
   "execution_count": 1,
   "id": "94d71650",
   "metadata": {},
   "outputs": [
    {
     "name": "stderr",
     "output_type": "stream",
     "text": [
      "playsound is relying on another python subprocess. Please use `pip install pygobject` if you want playsound to run more efficiently.\n"
     ]
    }
   ],
   "source": [
    "from urllib.request import urlretrieve, urlopen                                                                                                                                                       \n",
    "from urllib.parse import quote\n",
    "import tempfile\n",
    "from os import path\n",
    "\n",
    "from playsound import playsound"
   ]
  },
  {
   "cell_type": "code",
   "execution_count": 2,
   "id": "83355e80",
   "metadata": {},
   "outputs": [],
   "source": [
    "def word_generator():\n",
    "    wordsf = open(\"word_list.txt\")\n",
    "    while line := wordsf.readline():\n",
    "        _, hindi, english = line.strip().split(\"\\t\")\n",
    "        yield hindi, english"
   ]
  },
  {
   "cell_type": "code",
   "execution_count": 3,
   "id": "c0ab13c0",
   "metadata": {},
   "outputs": [],
   "source": [
    "def play_audio(hindi):\n",
    "    audio_url_prefix = \"https://translate.google.com/translate_tts?ie=UTF-8&client=tw-ob&tl=hi&q=\"\n",
    "    encoded_hindi = quote(hindi)\n",
    "    audio_url = audio_url_prefix + encoded_hindi\n",
    "\n",
    "    with tempfile.TemporaryDirectory() as tmpdir:\n",
    "        audio_fname = path.join(tmpdir, \"audio.mp3\")        \n",
    "        urlretrieve(audio_url, audio_fname)\n",
    "        playsound(audio_fname)\n",
    "        return audio_fname"
   ]
  },
  {
   "cell_type": "code",
   "execution_count": 4,
   "id": "158b53dd",
   "metadata": {},
   "outputs": [],
   "source": [
    "word = word_generator()"
   ]
  },
  {
   "cell_type": "code",
   "execution_count": 5,
   "id": "cb003f43",
   "metadata": {
    "scrolled": true
   },
   "outputs": [
    {
     "name": "stdout",
     "output_type": "stream",
     "text": [
      "जैसा as\n"
     ]
    }
   ],
   "source": [
    "hindi, english = next(word)\n",
    "play_audio(hindi)\n",
    "print(hindi, english)"
   ]
  },
  {
   "cell_type": "code",
   "execution_count": 6,
   "id": "5c2b042b",
   "metadata": {},
   "outputs": [],
   "source": [
    "image_url_prefix = \"https://www.ecosia.org/images?q=\"\n",
    "encoded_hindi = quote(hindi)\n",
    "image_url = image_url_prefix + encoded_hindi"
   ]
  },
  {
   "cell_type": "code",
   "execution_count": 7,
   "id": "3e2c7f67",
   "metadata": {},
   "outputs": [
    {
     "name": "stdout",
     "output_type": "stream",
     "text": [
      "https://www.ecosia.org/images?q=%E0%A4%9C%E0%A5%88%E0%A4%B8%E0%A4%BE\n"
     ]
    }
   ],
   "source": [
    "print(image_url)"
   ]
  },
  {
   "cell_type": "code",
   "execution_count": null,
   "id": "fc1f08dd",
   "metadata": {},
   "outputs": [],
   "source": []
  }
 ],
 "metadata": {
  "kernelspec": {
   "display_name": "Python 3 (ipykernel)",
   "language": "python",
   "name": "python3"
  },
  "language_info": {
   "codemirror_mode": {
    "name": "ipython",
    "version": 3
   },
   "file_extension": ".py",
   "mimetype": "text/x-python",
   "name": "python",
   "nbconvert_exporter": "python",
   "pygments_lexer": "ipython3",
   "version": "3.10.4"
  }
 },
 "nbformat": 4,
 "nbformat_minor": 5
}
